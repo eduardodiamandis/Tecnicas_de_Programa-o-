{
  "nbformat": 4,
  "nbformat_minor": 0,
  "metadata": {
    "colab": {
      "provenance": [],
      "authorship_tag": "ABX9TyPy7SfWQjU7bWzpfGriApQC",
      "include_colab_link": true
    },
    "kernelspec": {
      "name": "python3",
      "display_name": "Python 3"
    },
    "language_info": {
      "name": "python"
    }
  },
  "cells": [
    {
      "cell_type": "markdown",
      "metadata": {
        "id": "view-in-github",
        "colab_type": "text"
      },
      "source": [
        "<a href=\"https://colab.research.google.com/github/eduardodiamandis/Tecnicas_de_Programa-o-/blob/main/ACADEMIC_1125.ipynb\" target=\"_parent\"><img src=\"https://colab.research.google.com/assets/colab-badge.svg\" alt=\"Open In Colab\"/></a>"
      ]
    },
    {
      "cell_type": "markdown",
      "source": [
        "\n",
        "\n",
        "#Como é bom estar matriculado em um curso relacionado à computação! Há muitas disciplinas interessantes e \n",
        "#um mundo de descobertas! Porém, como quase tudo na vida, para ter sucesso é necessário comprometimento e esforço para aprender\n",
        "#os conteúdos que são passados pelos professores, pois exigem atenção e estudo extraclasse.\n",
        "\n",
        "#Você, um estudante exemplar, conquista notas elevadas e por isso não se preocupa com a média final nas disciplinas, pois sabe \n",
        "#que será aprovado sem precisar de prova substitutiva. No entanto, alguns de seus colegas estão apreensivos, pois estavam\n",
        "#acostumados a estudar \"em cima da hora\" e demoraram para perceber que essa \"tática\" não funciona mais. Por isso, querem \n",
        "#saber se com as notas que possuem serão aprovados, reprovados ou se há a possibilidade de aprovação com a prova substitutiva.\n",
        "\n",
        "#Como em situações críticas também há compaixão, você resolveu criar um programa para ajudar seus colegas. \n",
        "#Seu programa receberá como entrada dois números reais, o primeiro representando a nota de trabalhos e o segundo a nota da \n",
        "#prova regular. Considerando que cada uma das duas notas representa 50% da média final, seu programa exibirá uma mensagem \n",
        "#indicando a situação do aluno que poderá ser uma das três:\n",
        "\n",
        "#a) Aprovado: se a média final for maior ou igual a seis;\n",
        "\n",
        "#b) Talvez com a prova substitutiva: se existir alguma nota possível na prova substitutiva que permita que a média final fique \n",
        "    #maior ou igual a seis. Lembrando que, assim como a nota de trabalhos e da prova regular, a nota máxima na prova substitutiva\n",
        "    #é dez e que ela pode substituir apenas a nota da prova regular, não a de trabalhos;\n",
        "\n",
        "#c) Reprovado: se a média final for menor do que seis e não existir possibilidade de recuperação, mesmo com a nota máxima na \n",
        "    #prova substitutiva.\n",
        "\n",
        "\n",
        "    \n",
        "#Entrada\n",
        "#Dois números reais que podem variar de 0.00 à 10.00, um por linha, que representam a nota de trabalhos e a nota da prova regular,\n",
        "#respectivamente.\n",
        "\n",
        "\n",
        "#Saída\n",
        "#Uma frase indicando a situação do aluno a quem pertencem as notas da entrada. A situação pode ser 'aprovado', 'reprovado' ou\n",
        "#'talvez com a sub', sem os apóstrofos e completamente em minúsculo. Veja nos exemplos como a saída deve ser exibida."
      ],
      "metadata": {
        "id": "oVSV5rWRjzaZ"
      }
    },
    {
      "cell_type": "code",
      "source": [
        "nota_trabalhos=float(input('digite a nota dos trabalhos:'))\n",
        "nota_prova=float(input('digite a nota da prova:'))\n",
        "\n",
        "mediafinal=(nota_trabalhos+nota_prova)/2\n",
        "print(mediafinal)\n",
        "\n",
        "prova_sub=10\n",
        "\n",
        "final_sub=(prova_sub+nota_trabalhos)/2\n",
        "print(final_sub)\n",
        "\n",
        "if mediafinal>=6:\n",
        "    print(f'aprovado')\n",
        "elif mediafinal<6 and final_sub>=6:\n",
        "    print(f'talvez com a sub')\n",
        "else :\n",
        "    print(f'reprovado')"
      ],
      "metadata": {
        "id": "nWAOche7j2EV"
      },
      "execution_count": null,
      "outputs": []
    }
  ]
}