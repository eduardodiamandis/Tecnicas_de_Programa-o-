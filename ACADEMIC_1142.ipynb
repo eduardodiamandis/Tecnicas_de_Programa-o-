{
  "nbformat": 4,
  "nbformat_minor": 0,
  "metadata": {
    "colab": {
      "provenance": [],
      "authorship_tag": "ABX9TyMjPBOtcZAI5tQMs1SM0LgR",
      "include_colab_link": true
    },
    "kernelspec": {
      "name": "python3",
      "display_name": "Python 3"
    },
    "language_info": {
      "name": "python"
    }
  },
  "cells": [
    {
      "cell_type": "markdown",
      "metadata": {
        "id": "view-in-github",
        "colab_type": "text"
      },
      "source": [
        "<a href=\"https://colab.research.google.com/github/eduardodiamandis/Tecnicas_de_Programa-o-/blob/main/ACADEMIC_1142.ipynb\" target=\"_parent\"><img src=\"https://colab.research.google.com/assets/colab-badge.svg\" alt=\"Open In Colab\"/></a>"
      ]
    },
    {
      "cell_type": "markdown",
      "source": [
        "#Sua tarefa é construir um programa que receba como entrada um número natural N (0 <= N <= 10) e exibir a tabuada de N de \n",
        "#1 até 10.\n",
        "\n",
        "#Entrada\n",
        "\n",
        "#Um número natural N (0 <= N <= 10).\n",
        "\n",
        "#Saída\n",
        "#Exibir a tabuada do valor dado na entrada, conforme o modelo de saída dos exemplos.\n",
        "\n"
      ],
      "metadata": {
        "id": "6pA5gXSflcBU"
      }
    },
    {
      "cell_type": "code",
      "source": [
        "N=int(input())\n",
        "cont=1\n",
        "\n",
        "while cont < 11:\n",
        "    tabuada = N * cont\n",
        "    print(f'{N} x {cont} = {tabuada}')\n",
        "    cont+=1"
      ],
      "metadata": {
        "id": "9VSmpAOolion"
      },
      "execution_count": null,
      "outputs": []
    }
  ]
}