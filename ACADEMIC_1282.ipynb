{
  "nbformat": 4,
  "nbformat_minor": 0,
  "metadata": {
    "colab": {
      "provenance": [],
      "authorship_tag": "ABX9TyOT5Fj9lFNPNa12qRbrEmi+",
      "include_colab_link": true
    },
    "kernelspec": {
      "name": "python3",
      "display_name": "Python 3"
    },
    "language_info": {
      "name": "python"
    }
  },
  "cells": [
    {
      "cell_type": "markdown",
      "metadata": {
        "id": "view-in-github",
        "colab_type": "text"
      },
      "source": [
        "<a href=\"https://colab.research.google.com/github/eduardodiamandis/Tecnicas_de_Programa-o-/blob/main/ACADEMIC_1282.ipynb\" target=\"_parent\"><img src=\"https://colab.research.google.com/assets/colab-badge.svg\" alt=\"Open In Colab\"/></a>"
      ]
    },
    {
      "cell_type": "markdown",
      "source": [
        "# **ImpacTube**\n",
        "\n",
        "#A ImpacTube, uma famosa empresa de compartilhamento de vídeos, quer premiar alguns de seus mais notáveis criadores de conteúdo.\n",
        "#Para isso, a ImpacTube montará uma tabela com alguns dos canais que possuem grande quantidade de usuários inscritos.\n",
        "\n",
        "#No site da ImpacTube, os canais geram renda para seus criadores de conteúdo por meio de diversos mecanismos, \n",
        "#a conhecida \"monetização\", o que geralmente é influenciado pela quantidade de inscritos no canal e que acessam aos vídeos\n",
        "#postados.\n",
        "\n",
        "#Para possibilitar a premiação, cada registro da tabela (vide exemplo na Figura 1) terá quatro campos dispostos em colunas na \n",
        "#seguinte ordem:\n",
        "\n",
        "#O nome do canal;A quantidade atual de inscritos; A monetização do último mês do canal e;Um valor indicando se o canal produz \n",
        "#conteúdo premium, que são vídeos exclusivos para usuários que pagam uma mensalidade à ImpacTube.\n",
        "\n",
        "#Com esses dados será possível definir a bonificação de cada canal, que será composta pelo valor \"monetização\" da tabela \n",
        "#acrescido de um valor fixo para cada mil inscritos. \n",
        "\n",
        "#O valor fixo será definido pela ImpacTube, sendo X para canais com conteúdo premium e Y para os que não possuem conteúdo \n",
        "#premium.\n",
        "\n",
        "#Você foi escolhido para desenvolver um programa que receberá como entrada os dados de cada canal, gerando internamente a \n",
        "#tabela modelo, e que mostrará os nomes dos canais, na ordem em que foram dados na entrada, acompanhados do valor que receberão \n",
        "#como bonificação. Observe cuidadosamente o formato de entrada e o formato de saída especificados.\n",
        "\n",
        "#Entrada\n",
        "#Na primeira linha será informado um número inteiro que representa a quantidade N (1 <= N <= 200) de canais da tabela;\n",
        "#Em cada uma das N linhas seguintes serão informados os registros que compõem a tabela, com os valores das colunas separados por\n",
        "#um ponto e vírgula, nesta ordem: (1) uma string com o nome do canal que será bonificado; (2) um número natural que é a \n",
        "    #quantidade de inscritos no canal; (3) um número real simbolizando a monetização do canal no mês anterior (dado em reais R$) \n",
        "    #e; (4) uma string 'sim' ou 'não', sem apóstrofos e completamente em minúsculo, que indica se o canal produz conteúdo premium\n",
        "    \n",
        "#Por fim, serão informados dois números reais X e Y, um em cada linha, que indicam o valor fixo (em reais R$) que os canais \n",
        "#receberão a mais para cada mil inscritos no canal. O primeiro valor é X e refere-se aos canais que possuem conteúdo premium. \n",
        "#O segundo valor é Y e refere-se aos canais que não possuem conteúdo premium.\n",
        "\n",
        "#Saída\n",
        "#O cabeçalho contém três linhas,  sendo a primeira e a terceira compostas por apenas cinco hifens, e a segunda composta \n",
        "#unicamente pela palavra 'BÔNUS', sem apóstrofos e completamente em maiúsculo. Nas próximas N linhas, estão os nomes dos canais,\n",
        "#na mesma ordem em que foram dados na entrada, acompanhados à direita pelo valor que receberão como bonificação, em reais e com \n",
        "#duas casas decimais, exatamente como consta nos exemplos."
      ],
      "metadata": {
        "id": "LpbtgRe1o2lj"
      }
    },
    {
      "cell_type": "code",
      "source": [],
      "metadata": {
        "id": "npssJnaRpDva"
      },
      "execution_count": null,
      "outputs": []
    }
  ]
}