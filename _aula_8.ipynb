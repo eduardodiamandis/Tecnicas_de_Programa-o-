{
  "nbformat": 4,
  "nbformat_minor": 0,
  "metadata": {
    "colab": {
      "provenance": [],
      "include_colab_link": true
    },
    "kernelspec": {
      "name": "python3",
      "display_name": "Python 3"
    },
    "language_info": {
      "name": "python"
    }
  },
  "cells": [
    {
      "cell_type": "markdown",
      "metadata": {
        "id": "view-in-github",
        "colab_type": "text"
      },
      "source": [
        "<a href=\"https://colab.research.google.com/github/eduardodiamandis/Tecnicas_de_Programa-o-/blob/main/_aula_8.ipynb\" target=\"_parent\"><img src=\"https://colab.research.google.com/assets/colab-badge.svg\" alt=\"Open In Colab\"/></a>"
      ]
    },
    {
      "cell_type": "markdown",
      "source": [
        " **aula 8 - tratamento de exceções**\n",
        "\n",
        "Exceções:\n",
        "\n",
        "---\n",
        "\n",
        "Quando um programa encontra situações não\n",
        "previstas durante sua execução, diz-se que\n",
        "ocorreu uma exceção (condição excepcional)\n",
        "- Um erro é uma exceção, mas nem toda\n",
        "exceção é um erro.\n",
        "\n",
        "Se a condição excepcional não é prevista (e\n",
        "tratada), o programa exibe uma mensagem de\n",
        "erro e é interrompido.\n",
        "\n",
        "\n",
        "Para identificar e tratar uma exceção gerada por um\n",
        "trecho de código, pode-se usar a construção\n",
        "try/except, conforme a sintaxe abaixo\n",
        "```\n",
        "# try:\n",
        "  comando 1\n",
        "  comando 2\n",
        "\n",
        "except TipoDeExceção:\n",
        "  tratamento de exceção\n",
        "```\n",
        "\n",
        "**Ex:**\n",
        "\n",
        "\n",
        "\n",
        "```\n",
        "# try:\n",
        "  a = int(input('Entre com um número: '))\n",
        "  b = int(input('Entre com outro número: '))\n",
        "  print(a/b)\n",
        "\n",
        "except ZeroDivisionError:\n",
        "  print('Ops! O segundo número não pode ser zero!')\n",
        "```\n",
        "\n",
        "\n",
        "\n"
      ],
      "metadata": {
        "id": "jRr4CXccoZ7R"
      }
    },
    {
      "cell_type": "code",
      "source": [],
      "metadata": {
        "id": "TnDNkgFK3G5E"
      },
      "execution_count": null,
      "outputs": []
    },
    {
      "cell_type": "code",
      "execution_count": null,
      "metadata": {
        "colab": {
          "base_uri": "https://localhost:8080/"
        },
        "id": "o3f2EmhofiDg",
        "outputId": "30f18521-3655-4bc9-b4ad-97101c4b69e6"
      },
      "outputs": [
        {
          "output_type": "stream",
          "name": "stdout",
          "text": [
            "entre com um número: 5\n",
            "entre com outro número: 0\n",
            "Ops! O segundo número não pode ser zero!\n",
            "Fim\n"
          ]
        }
      ],
      "source": [
        "try:\n",
        "  a=int(input('entre com um número: '))\n",
        "  b=int(input('entre com outro número: '))\n",
        "  print(a/b)\n",
        "except ZeroDivisionError:\n",
        "  print('Ops! O segundo número não pode ser zero!')\n",
        "\n",
        "print('Fim')\n"
      ]
    },
    {
      "cell_type": "markdown",
      "source": [
        "**Principais tipos de exceções:**\n",
        "\n",
        "---\n",
        "\n",
        "1. Classe | Descrição\n",
        "\n",
        "2. Exception | Classe genérica para todas as exceções\n",
        "\n",
        "3. ArithmeticError | Erros aritméticos\n",
        "\n",
        "4. AttributeError | Falha no acesso ou atribuição a atributo da classe\n",
        "\n",
        "5. ZeroDivisionError | Erro em divisão por zero\n",
        "\n",
        "6. IOError | Falha no acesso a arquivos\n",
        "\n",
        "7. IndexError | Índice inexistente em listas ou tuplas\n",
        "\n",
        "8. KeyError | Chave inexistente de dicionário\n",
        "\n",
        "9. NameError | Variável inexistente\n",
        "\n",
        "10. TypeError | Atribuição de valor a objeto do tipo errado\n",
        "\n",
        "11. ValueError | Conversão de tipos inválidos\n",
        "\n",
        "12. SyntaxError | Erro de sintaxe (código errado)\n",
        "\n",
        "---\n",
        "\n",
        "\n",
        "\n",
        "\n",
        "\n",
        " **A instrução try pode ter mais de uma cláusula except\n",
        "para diferentes tipos de exceções.**\n",
        "\n",
        "\n",
        "```\n",
        "# try:\n",
        "  a = int(input('Entre com um número: '))\n",
        "  b = int(input('Entre com outro número: '))\n",
        "  print(a/b)\n",
        "\n",
        "except ZeroDivisionError:\n",
        "  print('Ops! O segundo número não pode ser zero!')\n",
        "\n",
        "except ValueError:\n",
        "  print('O valor informado é de um tipo inválido!')\n",
        "```\n",
        "\n"
      ],
      "metadata": {
        "id": "jo2oNqR5wobS"
      }
    },
    {
      "cell_type": "code",
      "source": [
        " try:\n",
        "  a = int(input('Entre com um número: '))\n",
        "  b = int(input('Entre com outro número: '))\n",
        "  print(a/b)\n",
        "\n",
        "except ZeroDivisionError:\n",
        "  print('Ops! O segundo número não pode ser zero!')\n",
        "\n",
        "except ValueError:\n",
        "  print('O valor informado é de um tipo inválido!')"
      ],
      "metadata": {
        "colab": {
          "base_uri": "https://localhost:8080/"
        },
        "id": "yjn60_hyx4vJ",
        "outputId": "32f7e0cc-3cda-48f6-b37f-0fbd90def6ee"
      },
      "execution_count": null,
      "outputs": [
        {
          "output_type": "stream",
          "name": "stdout",
          "text": [
            "Entre com um número: 0\n",
            "Entre com outro número: 10.5\n",
            "O valor informado é de um tipo inválido!\n"
          ]
        }
      ]
    },
    {
      "cell_type": "markdown",
      "source": [
        "Se quisermos nos prevenir contra qualquer tipo de erro,\n",
        "podemos usar uma exceção 'genérica', tipo Exception\n",
        "\n",
        "\n",
        "**CLÁUSULA ESLE:**\n",
        "\n",
        "---\n",
        "\n",
        "É possível completar um comando try com uma\n",
        "cláusula else que só é executado quando nenhuma\n",
        "exceção ocorre:\n",
        "\n",
        "```\n",
        "# try:\n",
        "  a = int(input('Entre com um número: '))\n",
        "  b = int(input('Entre com outro número: '))\n",
        "  c = a/b\n",
        "\n",
        "except ZeroDivisionError:\n",
        "  print('Ops! O segundo número não pode ser zero!')\n",
        "\n",
        "except ValueError:\n",
        "  print('O valor informado é de um tipo inválido!')\n",
        "\n",
        "except Exception:\n",
        "  print('Algo errado aconteceu!')\n",
        "\n",
        "else:\n",
        "  print(c)\n",
        "```\n",
        "\n"
      ],
      "metadata": {
        "id": "jFrOZCmDy_Td"
      }
    },
    {
      "cell_type": "code",
      "source": [
        "try:\n",
        "  a = int(input('Entre com um número: '))\n",
        "  b = int(input('Entre com outro número: '))\n",
        "  c = a/b\n",
        "\n",
        "except ZeroDivisionError:\n",
        "  print('Ops! O segundo número não pode ser zero!')\n",
        "\n",
        "except ValueError:\n",
        "  print('O valor informado é de um tipo inválido!')\n",
        "\n",
        "except Exception:\n",
        "  print('Algo errado aconteceu!')\n",
        "\n",
        "else:\n",
        "  print('não ocorreram exceções')\n",
        "  print(c)"
      ],
      "metadata": {
        "colab": {
          "base_uri": "https://localhost:8080/"
        },
        "id": "dBa5U_ce04Za",
        "outputId": "3e89e09a-99f7-4e07-c2df-4d5ffb5e07d6"
      },
      "execution_count": null,
      "outputs": [
        {
          "output_type": "stream",
          "name": "stdout",
          "text": [
            "Entre com um número: 5\n",
            "Entre com outro número: 10\n",
            "não ocorreram exceções\n",
            "0.5\n"
          ]
        }
      ]
    },
    {
      "cell_type": "markdown",
      "source": [
        "**Cláusula Finally:**\n",
        "\n",
        "---\n",
        "A cláusula finally pode ser usada para assegurar que\n",
        "mesmo que ocorra algum erro (ou não), uma\n",
        "determinada sequência de comandos vai ser executada\n",
        "\n",
        "Ex:\n",
        "\n",
        "```\n",
        "# try:\n",
        "  a = int(input('Entre com um número: '))\n",
        "  b = int(input('Entre com outro número: '))\n",
        "  c = a/b\n",
        "\n",
        "except ZeroDivisionError:\n",
        "  print('Ops! O segundo número não pode ser zero!')\n",
        "\n",
        "except ValueError:\n",
        "  print('O valor informado é de um tipo inválido!')\n",
        "\n",
        "except Exception:\n",
        "  print('Algo errado aconteceu!')\n",
        "\n",
        "else:\n",
        "  print(c)\n",
        "\n",
        "finally:\n",
        "  print('Fim do programa!')\n",
        "```\n",
        "\n"
      ],
      "metadata": {
        "id": "Oe1CZaZ617u_"
      }
    },
    {
      "cell_type": "code",
      "source": [
        "try:\n",
        "  a = int(input('Entre com um número: '))\n",
        "  b = int(input('Entre com outro número: '))\n",
        "  c = a/b\n",
        "\n",
        "except ZeroDivisionError:\n",
        "  print('Ops! O segundo número não pode ser zero!')\n",
        "\n",
        "except ValueError:\n",
        "  print('O valor informado é de um tipo inválido!')\n",
        "\n",
        "except Exception:\n",
        "  print('Algo errado aconteceu!')\n",
        "\n",
        "else:\n",
        "  print(c)\n",
        "\n",
        "finally:\n",
        "  print('Fim do programa!')"
      ],
      "metadata": {
        "id": "Apf3sgBK25Sd"
      },
      "execution_count": null,
      "outputs": []
    },
    {
      "cell_type": "markdown",
      "source": [
        "**Gerando exceções:**\n",
        "\n",
        "---\n",
        "\n",
        "Para gerar/lançar uma exceção é usado o comando\n",
        "raise, que tem a seguinte forma:\n",
        "\n",
        "raise TipoDaExceção\n",
        "\n",
        "```\n",
        "# try:\n",
        "  a = int(input('Informe um número positivo: '))\n",
        "  if a < 0:\n",
        "    raise ValueError\n",
        "\n",
        "except ValueError:\n",
        "  print('Erro: O número deve ser positivo!')\n",
        "\n",
        "except Exception:\n",
        "  print('Algum outro erro ocorreu!')\n",
        "```\n",
        "\n"
      ],
      "metadata": {
        "id": "cDbV2cyV3OSc"
      }
    },
    {
      "cell_type": "code",
      "source": [
        "try:\n",
        "  a = int(input('Informe um número positivo: '))\n",
        "  if a < 0:\n",
        "    raise ValueError\n",
        "\n",
        "except ValueError:\n",
        "  print('Erro: O número deve ser positivo!')\n",
        "\n",
        "except Exception:\n",
        "  print('Algum outro erro ocorreu!')\n",
        "\n",
        "  #outro exemplo\n",
        "\n"
      ],
      "metadata": {
        "colab": {
          "base_uri": "https://localhost:8080/"
        },
        "id": "MDkDxq0U4kzb",
        "outputId": "270851ad-0f47-4e61-a08e-27021e495f2b"
      },
      "execution_count": null,
      "outputs": [
        {
          "output_type": "stream",
          "name": "stdout",
          "text": [
            "Informe um número positivo: -4\n",
            "Erro: O número deve ser positivo!\n"
          ]
        }
      ]
    },
    {
      "cell_type": "code",
      "source": [
        "#outro exemplo \n",
        "try:\n",
        "  nota = float(input('Informe uma nota: '))\n",
        "  if nota < 0.0 or nota > 10.0:\n",
        "    raise ValueError\n",
        "\n",
        "except ValueError:\n",
        "  print('Erro: A nota é inválida!')\n",
        "\n",
        "else:\n",
        "  if nota >= 6.0:\n",
        "    print('Aprovado')\n",
        "  else:\n",
        "    print('Reprovado')"
      ],
      "metadata": {
        "colab": {
          "base_uri": "https://localhost:8080/"
        },
        "id": "N-v5eUws6c1t",
        "outputId": "f7a9f5b3-6a84-4b29-f94d-3940b8f7caa3"
      },
      "execution_count": null,
      "outputs": [
        {
          "output_type": "stream",
          "name": "stdout",
          "text": [
            "Informe uma nota: 11\n",
            "Erro: A nota é inválida!\n"
          ]
        }
      ]
    },
    {
      "cell_type": "markdown",
      "source": [
        "**Stack Trace:**\n",
        "\n",
        "---\n",
        "Quando uma\n",
        "Exception é criada,\n",
        "registra-se toda a\n",
        "chamada da pilha\n",
        "a partir daquele ponto.\n",
        "\n",
        "\n",
        "\n",
        "```\n",
        "#1 class MinhaExcecao(Exception): pass\n",
        "2\n",
        "3 def funcao(x):\n",
        "4 if (x < 0 or x > 100):\n",
        "5 raise MinhaExcecao(\"Valor incorreto\")\n",
        "6 else:\n",
        "7 return x\n",
        "8\n",
        "9 def main():\n",
        "10 funcao(1000)\n",
        "11\n",
        "12 if __name__ == '__main__':\n",
        "13 main()\n",
        "```\n",
        "\n"
      ],
      "metadata": {
        "id": "MQbAhrOo5z3g"
      }
    },
    {
      "cell_type": "code",
      "source": [
        "def soma (a,b):\n",
        "  c=a+b \n",
        "  return c\n",
        "\n",
        "def divisao(a, b):\n",
        "  c = a/b\n",
        "  returnc\n",
        "\n",
        "def main():\n",
        "  x = int(input('x? '))\n",
        "  y = int(input('y? '))\n",
        "  z = soma(x, y)\n",
        "  print(f'soma = {z}')\n",
        "  z = divisao(x, y)\n",
        "  print(f'divisão = {z}')\n",
        "\n",
        "main()"
      ],
      "metadata": {
        "colab": {
          "base_uri": "https://localhost:8080/",
          "height": 373
        },
        "id": "UzPHS0t-8LZI",
        "outputId": "87f88779-5f65-42b1-bc91-e84ba5034091"
      },
      "execution_count": null,
      "outputs": [
        {
          "output_type": "stream",
          "name": "stdout",
          "text": [
            "x? 7\n",
            "y? 0\n",
            "soma = 7\n"
          ]
        },
        {
          "output_type": "error",
          "ename": "NameError",
          "evalue": "ignored",
          "traceback": [
            "\u001b[0;31m---------------------------------------------------------------------------\u001b[0m",
            "\u001b[0;31mNameError\u001b[0m                                 Traceback (most recent call last)",
            "\u001b[0;32m<ipython-input-21-e2ef32f5968f>\u001b[0m in \u001b[0;36m<cell line: 17>\u001b[0;34m()\u001b[0m\n\u001b[1;32m     15\u001b[0m   \u001b[0mprint\u001b[0m\u001b[0;34m(\u001b[0m\u001b[0;34mf'divisão = {z}'\u001b[0m\u001b[0;34m)\u001b[0m\u001b[0;34m\u001b[0m\u001b[0;34m\u001b[0m\u001b[0m\n\u001b[1;32m     16\u001b[0m \u001b[0;34m\u001b[0m\u001b[0m\n\u001b[0;32m---> 17\u001b[0;31m \u001b[0mmain\u001b[0m\u001b[0;34m(\u001b[0m\u001b[0;34m)\u001b[0m\u001b[0;34m\u001b[0m\u001b[0;34m\u001b[0m\u001b[0m\n\u001b[0m",
            "\u001b[0;32m<ipython-input-21-e2ef32f5968f>\u001b[0m in \u001b[0;36mmain\u001b[0;34m()\u001b[0m\n\u001b[1;32m     12\u001b[0m   \u001b[0mz\u001b[0m \u001b[0;34m=\u001b[0m \u001b[0msoma\u001b[0m\u001b[0;34m(\u001b[0m\u001b[0mx\u001b[0m\u001b[0;34m,\u001b[0m \u001b[0my\u001b[0m\u001b[0;34m)\u001b[0m\u001b[0;34m\u001b[0m\u001b[0;34m\u001b[0m\u001b[0m\n\u001b[1;32m     13\u001b[0m   \u001b[0mprint\u001b[0m\u001b[0;34m(\u001b[0m\u001b[0;34mf'soma = {z}'\u001b[0m\u001b[0;34m)\u001b[0m\u001b[0;34m\u001b[0m\u001b[0;34m\u001b[0m\u001b[0m\n\u001b[0;32m---> 14\u001b[0;31m   \u001b[0mz\u001b[0m \u001b[0;34m=\u001b[0m \u001b[0mdivisão\u001b[0m\u001b[0;34m(\u001b[0m\u001b[0mx\u001b[0m\u001b[0;34m,\u001b[0m \u001b[0my\u001b[0m\u001b[0;34m)\u001b[0m\u001b[0;34m\u001b[0m\u001b[0;34m\u001b[0m\u001b[0m\n\u001b[0m\u001b[1;32m     15\u001b[0m   \u001b[0mprint\u001b[0m\u001b[0;34m(\u001b[0m\u001b[0;34mf'divisão = {z}'\u001b[0m\u001b[0;34m)\u001b[0m\u001b[0;34m\u001b[0m\u001b[0;34m\u001b[0m\u001b[0m\n\u001b[1;32m     16\u001b[0m \u001b[0;34m\u001b[0m\u001b[0m\n",
            "\u001b[0;31mNameError\u001b[0m: name 'divisão' is not defined"
          ]
        }
      ]
    },
    {
      "cell_type": "markdown",
      "source": [
        "**Como ler o Stack Trace:**\n",
        "\n",
        "---\n",
        "\n",
        "```\n",
        "# $ python exemplo_excecao.py\n",
        "Traceback (most recent call last):\n",
        "  File \"exemplo_excecao.py\", line 22, in <module>\n",
        "    main()\n",
        "  File \"exemplo_excecao.py\", line 16, in main\n",
        "    funcao(1000)\n",
        "  File \"exemplo_excecao.py\", line 8, in funcao\n",
        "    raise MinhaExcecao(\"Valor incorreto\")\n",
        "__main__.MinhaExcecao: Valor incorreto\n",
        "\n",
        "```\n",
        "\n",
        "**line 8, in funcao**\n",
        "\n",
        "**raise MinhaExcecao(\"Valor incorreto\")**"
      ],
      "metadata": {
        "id": "CqliuECK94_J"
      }
    },
    {
      "cell_type": "markdown",
      "source": [
        "**Erros Comuns:**\n",
        "\n",
        "---\n",
        "\n",
        "\n",
        "```\n",
        "# v = [1,2,3,4,5,6,7,8,9,10]\n",
        "\n",
        "  for i in range(len(v)): # remover elementos pares\n",
        "    if (v[i] % 2 == 0):\n",
        "      del v[i]\n",
        "```\n",
        "\n",
        "O tamanho do vetor não é recalculado\n",
        "\n",
        "Veja:"
      ],
      "metadata": {
        "id": "a4EOBGRW-N4Z"
      }
    },
    {
      "cell_type": "code",
      "source": [
        "v = [1,2,3,4,5,6,7,8,9,10]\n",
        "\n",
        "for i in range(len(v)): # remover elementos pares\n",
        "  if (v[i] % 2 == 0):\n",
        "    del v[i]\n",
        "  print(f'v = {v}')\n",
        "  input()"
      ],
      "metadata": {
        "colab": {
          "base_uri": "https://localhost:8080/",
          "height": 443
        },
        "id": "x7v7pFLc-lFS",
        "outputId": "cf3bbc1d-6c5a-4e14-ebd5-c9a90a36afcd"
      },
      "execution_count": null,
      "outputs": [
        {
          "name": "stdout",
          "output_type": "stream",
          "text": [
            "v = [1, 2, 3, 4, 5, 6, 7, 8, 9, 10]\n",
            "\n",
            "v = [1, 3, 4, 5, 6, 7, 8, 9, 10]\n",
            "\n",
            "v = [1, 3, 5, 6, 7, 8, 9, 10]\n",
            "\n",
            "v = [1, 3, 5, 7, 8, 9, 10]\n",
            "\n",
            "v = [1, 3, 5, 7, 9, 10]\n",
            "\n",
            "v = [1, 3, 5, 7, 9]\n",
            "\n"
          ]
        },
        {
          "output_type": "error",
          "ename": "IndexError",
          "evalue": "ignored",
          "traceback": [
            "\u001b[0;31m---------------------------------------------------------------------------\u001b[0m",
            "\u001b[0;31mIndexError\u001b[0m                                Traceback (most recent call last)",
            "\u001b[0;32m<ipython-input-24-c481aaf9576e>\u001b[0m in \u001b[0;36m<cell line: 3>\u001b[0;34m()\u001b[0m\n\u001b[1;32m      2\u001b[0m \u001b[0;34m\u001b[0m\u001b[0m\n\u001b[1;32m      3\u001b[0m \u001b[0;32mfor\u001b[0m \u001b[0mi\u001b[0m \u001b[0;32min\u001b[0m \u001b[0mrange\u001b[0m\u001b[0;34m(\u001b[0m\u001b[0mlen\u001b[0m\u001b[0;34m(\u001b[0m\u001b[0mv\u001b[0m\u001b[0;34m)\u001b[0m\u001b[0;34m)\u001b[0m\u001b[0;34m:\u001b[0m \u001b[0;31m# remover elementos pares\u001b[0m\u001b[0;34m\u001b[0m\u001b[0;34m\u001b[0m\u001b[0m\n\u001b[0;32m----> 4\u001b[0;31m   \u001b[0;32mif\u001b[0m \u001b[0;34m(\u001b[0m\u001b[0mv\u001b[0m\u001b[0;34m[\u001b[0m\u001b[0mi\u001b[0m\u001b[0;34m]\u001b[0m \u001b[0;34m%\u001b[0m \u001b[0;36m2\u001b[0m \u001b[0;34m==\u001b[0m \u001b[0;36m0\u001b[0m\u001b[0;34m)\u001b[0m\u001b[0;34m:\u001b[0m\u001b[0;34m\u001b[0m\u001b[0;34m\u001b[0m\u001b[0m\n\u001b[0m\u001b[1;32m      5\u001b[0m     \u001b[0;32mdel\u001b[0m \u001b[0mv\u001b[0m\u001b[0;34m[\u001b[0m\u001b[0mi\u001b[0m\u001b[0;34m]\u001b[0m\u001b[0;34m\u001b[0m\u001b[0;34m\u001b[0m\u001b[0m\n\u001b[1;32m      6\u001b[0m   \u001b[0mprint\u001b[0m\u001b[0;34m(\u001b[0m\u001b[0;34mf'v = {v}'\u001b[0m\u001b[0;34m)\u001b[0m\u001b[0;34m\u001b[0m\u001b[0;34m\u001b[0m\u001b[0m\n",
            "\u001b[0;31mIndexError\u001b[0m: list index out of range"
          ]
        }
      ]
    },
    {
      "cell_type": "markdown",
      "source": [
        "Ao remover o elemento v1[0], remove-se também o\n",
        "elemento v2[0], pois ambos apontam para a mesma\n",
        "lista."
      ],
      "metadata": {
        "id": "h_MEubYtGY-1"
      }
    },
    {
      "cell_type": "code",
      "source": [
        "v1 = [1,2,3,4,5]\n",
        "v2 = v1\n",
        "del v1[0]\n",
        "print(v2) # [2,3,4,5]"
      ],
      "metadata": {
        "colab": {
          "base_uri": "https://localhost:8080/"
        },
        "id": "d7ZbfWQGGZyH",
        "outputId": "9dd3af22-d908-4e05-859c-a2b260ad7982"
      },
      "execution_count": null,
      "outputs": [
        {
          "output_type": "stream",
          "name": "stdout",
          "text": [
            "[2, 3, 4, 5]\n"
          ]
        }
      ]
    },
    {
      "cell_type": "markdown",
      "source": [
        "Para realizar uma cópia de v1 e guardar em v2 é necessário fazer:\n",
        "\n",
        "\n",
        "```\n",
        "# v1 = [1,2,3,4,5]\n",
        "  v2 = v1[:]\n",
        "  del v1[0]\n",
        "  print(v2) # [1,2,3,4,5]\n",
        "```\n",
        "Neste caso, v2 recebe uma cópia de v1.\n"
      ],
      "metadata": {
        "id": "eMqk7YwUHzj7"
      }
    },
    {
      "cell_type": "markdown",
      "source": [
        "Exercícios \n",
        "\n",
        "---\n",
        "\n",
        "exc 1:\n",
        "\n",
        "Nesta questão você deve identificar as partes problemáticas do código e reescrevê-lo\n",
        "utilizando tratamento de exceções.\n",
        "Ou seja, devem ser identificadas todas as exceções que podem ser geradas e, para cada\n",
        "uma, deve ser dado o tratamento adequado que, nesse exercício, significa alertar o usuário\n",
        "quanto ao problema.\n",
        "\n",
        "```\n",
        "# x = int(input('Primeiro valor:'))\n",
        "y = int(input('Segundo valor:'))\n",
        "z = x/y\n",
        "print('O resultado da divisão é: ', z)\n",
        "```\n",
        "---\n"
      ],
      "metadata": {
        "id": "EWoGxjIMJsYA"
      }
    },
    {
      "cell_type": "code",
      "source": [
        "#solução:\n",
        "try:\n",
        "  x = int(input('Primeiro valor:'))\n",
        "  y = int(input('Segundo valor:'))\n",
        "  z = x/y\n",
        "\n",
        "except ZeroDivisionError:\n",
        "  print('Ops! O segundo número não pode ser zero!')\n",
        "except ValueError:\n",
        "  print('O valor informado é de um tipo inválido!')\n",
        "except Exception:\n",
        "  print('Algo errado aconteceu!')\n",
        "  \n",
        "else:\n",
        "  print('O resultado da divisão é: ', z)"
      ],
      "metadata": {
        "colab": {
          "base_uri": "https://localhost:8080/"
        },
        "id": "Sjz4aUiYJ-VZ",
        "outputId": "39fc2cab-9f87-42ff-e72f-f9405ca9538d"
      },
      "execution_count": null,
      "outputs": [
        {
          "output_type": "stream",
          "name": "stdout",
          "text": [
            "Primeiro valor:10\n",
            "Segundo valor:5\n",
            "O resultado da divisão é:  2.0\n"
          ]
        }
      ]
    },
    {
      "cell_type": "markdown",
      "source": [
        "---\n",
        "exc 2:\n",
        "O código abaixo lança uma exceção e interrompe a execução do programa. Utilizando o\n",
        "tratamento de exceções, corrija o programa com o objetivo de alertar o usuário sobre o erro\n",
        "ocorrido, e impedir que o programa seja interrompido bruscamente.\n",
        "\n",
        "\n",
        "\n",
        "```\n",
        "# def funcao_ex02():\n",
        "    print('Início da função')\n",
        "    lista = [1, 2, 3, 4, 5, 6, 7, 8, 9, 10]\n",
        "    for i in range(15):\n",
        "      print(lista[i])\n",
        "    print('Fim da função')\n",
        "\n",
        "print('Início do programa')\n",
        "funcao_ex02()\n",
        "print('Fim do programa')\n",
        "```\n",
        "\n",
        "---"
      ],
      "metadata": {
        "id": "Yd8VIkzrLAWi"
      }
    },
    {
      "cell_type": "code",
      "source": [
        "\n",
        "  def funcao_ex02():\n",
        "      print('Início da função')\n",
        "      lista = [1, 2, 3, 4, 5, 6, 7, 8, 9, 10]\n",
        "      try:\n",
        "        for i in range(15):\n",
        "          print(lista[i])\n",
        "      except IndexError:\n",
        "        print('loop de repetições maior que o numero de itens na lista')\n",
        "      except Exception:\n",
        "        print('Algo errado aconteceu!')\n",
        "      print('Fim da função')\n",
        "\n",
        "\n",
        "print('Início do programa')\n",
        "funcao_ex02()\n",
        "print('Fim do programa')"
      ],
      "metadata": {
        "colab": {
          "base_uri": "https://localhost:8080/"
        },
        "id": "_QWKDZJGLSV8",
        "outputId": "6c5a66b9-a31c-4892-bac7-ed8eb34aec03"
      },
      "execution_count": null,
      "outputs": [
        {
          "output_type": "stream",
          "name": "stdout",
          "text": [
            "Início do programa\n",
            "Início da função\n",
            "1\n",
            "2\n",
            "3\n",
            "4\n",
            "5\n",
            "6\n",
            "7\n",
            "8\n",
            "9\n",
            "10\n",
            "loop de repetições maior que o numero de itens na lista\n",
            "Fim da função\n",
            "Fim do programa\n"
          ]
        }
      ]
    },
    {
      "cell_type": "markdown",
      "source": [
        "---\n",
        "exc 3:\n",
        "\n",
        "Preencha uma lista com 5 nomes de pessoas, informados pelo usuário.\n",
        "\n",
        "\n",
        "a) Criar uma função que recebe como parâmetro de entrada a lista e uma posição\n",
        "(índice) dessa lista e retorna o nome que está nessa posição. Essa função deve\n",
        "tratar a exceção do tipo IndexError caso o índice não exista na lista.\n",
        "\n",
        "---"
      ],
      "metadata": {
        "id": "e5ncdVm-P-x8"
      }
    },
    {
      "cell_type": "code",
      "source": [
        "\n",
        "nomes = []\n",
        "print('preencha a lista')\n",
        "for i in range(5):\n",
        "  i = input('digite o nome: ')\n",
        "  nomes.append(i)\n",
        "\n",
        "  def indicelista (nomes, x):\n",
        "    try:\n",
        "      print(nomes[x])\n",
        "      if nome[x] is not nomes:\n",
        "        raise IndexError\n",
        "    except IndexError:\n",
        "      print('endereçamento não contido na lista')\n",
        "    else:\n",
        "      return nomes \n",
        "\n",
        "x = int(input('digite um endereçamento: '))\n",
        "indicelista (nomes, x)\n",
        "\n"
      ],
      "metadata": {
        "colab": {
          "base_uri": "https://localhost:8080/"
        },
        "id": "ktlTmbM1P-eO",
        "outputId": "4a0fa727-b96a-48e6-8f1b-615b70a63495"
      },
      "execution_count": null,
      "outputs": [
        {
          "output_type": "stream",
          "name": "stdout",
          "text": [
            "preencha a lista\n",
            "digite o nome: popy\n",
            "digite o nome: lala\n",
            "digite o nome: po\n",
            "digite o nome: dudu\n",
            "digite o nome: cleber\n",
            "digite um endereçamento: 8\n",
            "endereçamento não contido na lista\n"
          ]
        }
      ]
    },
    {
      "cell_type": "markdown",
      "source": [],
      "metadata": {
        "id": "8uNZeCUPmD-K"
      }
    }
  ]
}