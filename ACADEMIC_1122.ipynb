{
  "nbformat": 4,
  "nbformat_minor": 0,
  "metadata": {
    "colab": {
      "provenance": [],
      "authorship_tag": "ABX9TyPyD7xwtfYYfxtT2tSxTYTy",
      "include_colab_link": true
    },
    "kernelspec": {
      "name": "python3",
      "display_name": "Python 3"
    },
    "language_info": {
      "name": "python"
    }
  },
  "cells": [
    {
      "cell_type": "markdown",
      "metadata": {
        "id": "view-in-github",
        "colab_type": "text"
      },
      "source": [
        "<a href=\"https://colab.research.google.com/github/eduardodiamandis/Tecnicas_de_Programa-o-/blob/main/ACADEMIC_1122.ipynb\" target=\"_parent\"><img src=\"https://colab.research.google.com/assets/colab-badge.svg\" alt=\"Open In Colab\"/></a>"
      ]
    },
    {
      "cell_type": "code",
      "execution_count": null,
      "metadata": {
        "id": "Il8S71X4hEoN"
      },
      "outputs": [],
      "source": [
        "ACADEMIC 1122\n",
        "\n",
        "Quanto tempo?\n",
        "Por Lucio Nunes de Lira & Rafael Maximo Carreira Ribeiro,  Brazil\n",
        "\n",
        "Timelimit: 1\n",
        "\"Não tem jeito!\", Julius repete para si mesmo que o trânsito da cidade grande é o maior vilão de seus dias, fazendo com que gaste muito tempo no percurso entre sua casa ao primeiro emprego, entre seu primeiro emprego ao segundo emprego, e entre seu segundo emprego até o regresso à sua casa. Pois é, Julius tem dois empregos!\n",
        "Julius é ótimo na realização de contas, mas como está sempre com pressa, nunca teve tempo para calcular o tempo total gasto no trânsito, desde o momento que sai de casa até o momento que regressa. Seu relógio é antigo, não possibilitando cronometrar um percurso, pausar e continuar a cronometragem no próximo, por isso só sabe o tempo gasto entre os percursos isoladamente, mas não o tempo gasto nos percursos somados. Até ofereceram um novo relógio com desconto para Julius, para ele respondeu ao vendedor que \"não comprar o relógio daria um desconto maior\".\n",
        "Você, como um bom amigo, se ofereceu para criar um programa que recebe como entrada os tempos dos três percursos de Julius (de casa ao primeiro emprego, do primeiro emprego ao segundo e do segundo à casa) e exibe o tempo total consumido. Lembre-se que os tempos serão dados em minutos!\n",
        "Entrada\n",
        "Três números inteiros, um por linha, representando os tempos (em minutos) gastos por Julius em seus percursos.\n",
        "Saída\n",
        "O tempo total gasto por Julius seguido por um espaço em branco e pela palavra \"minutos\", sem aspas e em minúsculo, conforme exemplos."
      ]
    },
    {
      "cell_type": "code",
      "source": [
        "a=int(input('digite o tempo do primeiro percurso:'))\n",
        "b=int(input('digite o tempo do segundo percurso:'))\n",
        "c=int(input('digite o tempo do terceiro percurso:'))\n",
        "\n",
        "total=a+b+c\n",
        "\n",
        "print(f'{total} minutos')"
      ],
      "metadata": {
        "id": "33YU4X9JhVoy"
      },
      "execution_count": null,
      "outputs": []
    }
  ]
}