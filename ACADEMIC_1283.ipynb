{
  "nbformat": 4,
  "nbformat_minor": 0,
  "metadata": {
    "colab": {
      "provenance": [],
      "authorship_tag": "ABX9TyMPBO2kpNigDjD99JTmwqqn",
      "include_colab_link": true
    },
    "kernelspec": {
      "name": "python3",
      "display_name": "Python 3"
    },
    "language_info": {
      "name": "python"
    }
  },
  "cells": [
    {
      "cell_type": "markdown",
      "metadata": {
        "id": "view-in-github",
        "colab_type": "text"
      },
      "source": [
        "<a href=\"https://colab.research.google.com/github/eduardodiamandis/Tecnicas_de_Programa-o-/blob/main/ACADEMIC_1283.ipynb\" target=\"_parent\"><img src=\"https://colab.research.google.com/assets/colab-badge.svg\" alt=\"Open In Colab\"/></a>"
      ]
    },
    {
      "cell_type": "markdown",
      "source": [
        "**Corra Forrest!**\n",
        "\n",
        "#Forrest é um garoto que adora correr e contar histórias, as vezes até conta histórias sobre correr... vai entender. \n",
        "#Como costuma correr diariamente pela cidade, Forrest sempre procura fazer o menor tempo possível, porém não é muito organizado\n",
        "#e anota os tempos de suas corridas em papeis que são jogados em sua gaveta sem nenhum tipo de ordenação.\n",
        "#Como Forrest está muito ocupado ultimamente, planejando como cumprir uma promessa a um antigo amigo que adorava restaurantes \n",
        "#e camarão, pediu a você que crie um programa que receba como entrada os tempos das corridas que estão nos papeis e calcule a \n",
        "#média aritmética dos tempos gastos por ele para completar o seu percurso de corrida diário. Ao final, seu programa deve \n",
        "#também exibir todos os tempos de corrida abaixo dessa média, na mesma ordem em que foram recebidos na entrada.\n",
        "\n",
        "\n",
        "#Entrada\n",
        "#Diversos valores inteiros, um por linha, que representam os tempos gastos em cada corrida (em segundos);\n",
        "#A entrada é finalizada com a inserção de um valor negativo, que não deve ser contabilizado.\n",
        "\n",
        "\n",
        "#Saída\n",
        "#Na primeira linha a palavra 'MEDIA', sem apóstrofos, sem acentuação e completamente em maiúsculo, seguida por dois pontos\n",
        "#(':'), um caractere de espaço e um valor real com duas casas decimais, indicando a média dos tempos dados na entrada, em\n",
        "#segundos;\n",
        "#Nas linhas seguintes, os tempos de corrida abaixo da média calculada, em segundos, um por linha e na mesma ordem em que foram\n",
        "#dados na entrada."
      ],
      "metadata": {
        "id": "pguA21V7n8ZN"
      }
    },
    {
      "cell_type": "markdown",
      "source": [],
      "metadata": {
        "id": "duPa3ParoD_9"
      }
    },
    {
      "cell_type": "code",
      "source": [
        "lista_tempo=[]\n",
        "tempo=int(input('digite o valor do tempo:'))\n",
        "while tempo>=0:\n",
        "    lista_tempo.append(tempo)\n",
        "    tempo=int(input('digite o valor do tempo:'))\n",
        "soma_tempos=sum(lista_tempo)\n",
        "cont=len(lista_tempo)\n",
        "media=soma_tempos/cont\n",
        "\n",
        "print(f'MEDIA: {media:.2f}')\n",
        "for listagem in lista_tempo:\n",
        "    if listagem < media:\n",
        "        print(listagem)"
      ],
      "metadata": {
        "id": "fWsG5bxzn-Oo"
      },
      "execution_count": null,
      "outputs": []
    }
  ]
}