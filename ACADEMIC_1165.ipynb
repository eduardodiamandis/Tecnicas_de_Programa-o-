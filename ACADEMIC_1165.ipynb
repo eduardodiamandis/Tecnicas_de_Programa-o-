{
  "nbformat": 4,
  "nbformat_minor": 0,
  "metadata": {
    "colab": {
      "provenance": [],
      "authorship_tag": "ABX9TyN0FRtvR4NYmaWW56b/GmTp",
      "include_colab_link": true
    },
    "kernelspec": {
      "name": "python3",
      "display_name": "Python 3"
    },
    "language_info": {
      "name": "python"
    }
  },
  "cells": [
    {
      "cell_type": "markdown",
      "metadata": {
        "id": "view-in-github",
        "colab_type": "text"
      },
      "source": [
        "<a href=\"https://colab.research.google.com/github/eduardodiamandis/Tecnicas_de_Programa-o-/blob/main/ACADEMIC_1165.ipynb\" target=\"_parent\"><img src=\"https://colab.research.google.com/assets/colab-badge.svg\" alt=\"Open In Colab\"/></a>"
      ]
    },
    {
      "cell_type": "markdown",
      "source": [
        "Ao perceber que um de seus amigos estava com dificuldades financeiras, Victória, uma garota muito inteligente, decidiu ajudá-lo com uma \"vaquinha digital\", em que todos poderiam doar quanto pudessem para ajudar seu amigo.\n",
        "Para isso, Victória criou uma criptomoeda, a Vic Coin, em que cada unidade equivale à R$ 2,50. Assim, os doadores primeiro compram a criptomoeda e, em seguida, depositam uma parte delas para doação. A parte que não foi doada pode ficar guardada em uma carteira digital e poderá ser usada no futuro para outras doações. Genial!\n",
        "Victória está ocupada implementando o que é necessário para o funcionamento do ambiente de doações, por isso pediu para que você a ajudasse com uma das partes essenciais: a contabilização de doações e a conversão para reais.\n",
        "Seu objetivo é criar um programa que receba como entrada diversas doações feitas em Vic Coin e, ao final, exiba o total de doações em Vic Coin (VC$) e o mesmo valor convertido para reais (R$).\n",
        "Entrada\n",
        "Diversos números reais, um por linha, que representam os valores das doações feitas em Vic Coin. A entrada é finalizada quando o número -1.0 for lido e, evidentemente, não deverá ser contabilizado como doação.\n",
        "Saída\n",
        "A saída será composta de duas linhas:\n",
        "A primeira linha será um número real com duas casas decimais indicando o total doado em Vic Coins (VC$);\n",
        "A segunda linha será um número real com duas casas decimais indicando o total doado em reais (R$)."
      ],
      "metadata": {
        "id": "Sghj8UqcnIST"
      }
    },
    {
      "cell_type": "code",
      "source": [
        "vc=float(input())\n",
        "total_doacao=0\n",
        "while vc!=-1.0:\n",
        "    total_doacao+=vc\n",
        "    vc=float(input())\n",
        "    \n",
        "total_RS = 2.50*total_doacao\n",
        "print(f'VC$ {total_doacao:.2f}')\n",
        "print(f'R$ {total_RS:.2f}')"
      ],
      "metadata": {
        "colab": {
          "base_uri": "https://localhost:8080/"
        },
        "id": "0zIUmQVZmZS4",
        "outputId": "ce4eeaa2-a6f7-4bf0-d91f-613281daf035"
      },
      "execution_count": 3,
      "outputs": [
        {
          "output_type": "stream",
          "name": "stdout",
          "text": [
            "50.0\n",
            "10\n",
            "10\n",
            "0\n",
            "0\n",
            "0\n",
            "1\n",
            "1\n",
            "1\n",
            "1\n",
            "2\n",
            "2\n",
            "6\n",
            "5\n",
            "1.0\n",
            "-1.0\n",
            "VC$ 90.00\n",
            "R$ 225.00\n"
          ]
        }
      ]
    }
  ]
}